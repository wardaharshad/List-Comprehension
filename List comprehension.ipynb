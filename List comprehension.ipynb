{
 "cells": [
  {
   "cell_type": "code",
   "execution_count": 1,
   "metadata": {},
   "outputs": [
    {
     "name": "stdout",
     "output_type": "stream",
     "text": [
      "['w', 'a', 'r', 'd', 'a', 'h']\n"
     ]
    }
   ],
   "source": [
    "#for loop\n",
    "my_list=[]\n",
    "for letters in \"wardah\":\n",
    "    my_list.append(letters)\n",
    "    \n",
    "print(my_list)"
   ]
  },
  {
   "cell_type": "code",
   "execution_count": 2,
   "metadata": {},
   "outputs": [
    {
     "name": "stdout",
     "output_type": "stream",
     "text": [
      "['w', 'a', 'r', 'd', 'a', 'h']\n"
     ]
    }
   ],
   "source": [
    "#list comprehension\n",
    "my_list= [letters for letters in \"wardah\"]\n",
    "print(my_list)"
   ]
  },
  {
   "cell_type": "code",
   "execution_count": 3,
   "metadata": {},
   "outputs": [
    {
     "name": "stdout",
     "output_type": "stream",
     "text": [
      "[4, 16, 36, 64, 100]\n"
     ]
    }
   ],
   "source": [
    "numbers=[2,4,6,8,10]\n",
    "squares=[]\n",
    "\n",
    "for n in numbers:\n",
    "    squares.append(n**2)\n",
    "    \n",
    "print(squares)"
   ]
  },
  {
   "cell_type": "code",
   "execution_count": 4,
   "metadata": {},
   "outputs": [
    {
     "name": "stdout",
     "output_type": "stream",
     "text": [
      "[4, 16, 36, 64, 100]\n"
     ]
    }
   ],
   "source": [
    "numbers=[2,4,6,8,10]\n",
    "squares = [ n**2 for n in numbers]\n",
    "print(squares)"
   ]
  },
  {
   "cell_type": "code",
   "execution_count": 5,
   "metadata": {},
   "outputs": [
    {
     "name": "stdout",
     "output_type": "stream",
     "text": [
      "[2, 3, 4]\n"
     ]
    }
   ],
   "source": [
    "lista = [1,2,3,4,5]\n",
    "listb = [2,3,4,6,9]\n",
    "\n",
    "common_num= []\n",
    "\n",
    "for a in lista:\n",
    "    for b in listb:\n",
    "        if a==b:\n",
    "            common_num.append(a)\n",
    "            \n",
    "print(common_num)"
   ]
  },
  {
   "cell_type": "code",
   "execution_count": 6,
   "metadata": {},
   "outputs": [
    {
     "name": "stdout",
     "output_type": "stream",
     "text": [
      "[2, 3, 4]\n"
     ]
    }
   ],
   "source": [
    "lista = [1,2,3,4,5]\n",
    "listb = [2,3,4,6,9]\n",
    "\n",
    "common_num = [a for a in lista for b in listb if a==b]\n",
    "print(common_num)"
   ]
  },
  {
   "cell_type": "code",
   "execution_count": 11,
   "metadata": {},
   "outputs": [
    {
     "name": "stdout",
     "output_type": "stream",
     "text": [
      "[1, 1, 2, 3, 4, 4, 5, 5]\n"
     ]
    }
   ],
   "source": [
    "lista = [1,2,3,4,5]\n",
    "listb = [2,3]\n",
    "\n",
    "differnt_num = [a for a in lista for b in listb if a!=b ]\n",
    "print(differnt_num)"
   ]
  },
  {
   "cell_type": "code",
   "execution_count": 12,
   "metadata": {},
   "outputs": [
    {
     "name": "stdout",
     "output_type": "stream",
     "text": [
      "['w', 'a', 'r', 'd', 'a', 'h']\n"
     ]
    }
   ],
   "source": [
    "letters = list(map(lambda x:x, \"wardah\"))\n",
    "print(letters)"
   ]
  },
  {
   "cell_type": "code",
   "execution_count": 13,
   "metadata": {},
   "outputs": [
    {
     "name": "stdout",
     "output_type": "stream",
     "text": [
      "[0, 2, 4, 6, 8, 10, 12, 14, 16, 18]\n"
     ]
    }
   ],
   "source": [
    "number_list = [x for x in range(20) if x%2==0]\n",
    "print(number_list)"
   ]
  },
  {
   "cell_type": "code",
   "execution_count": 15,
   "metadata": {},
   "outputs": [
    {
     "name": "stdout",
     "output_type": "stream",
     "text": [
      "[0, 10, 20, 30, 40, 50, 60, 70, 80, 90]\n"
     ]
    }
   ],
   "source": [
    "number_list = [x for x in range(100) if x%2==0 if x%5==0]\n",
    "print(number_list)"
   ]
  },
  {
   "cell_type": "code",
   "execution_count": 16,
   "metadata": {},
   "outputs": [
    {
     "name": "stdout",
     "output_type": "stream",
     "text": [
      "['Even', 'Odd', 'Even', 'Odd', 'Even', 'Odd', 'Even', 'Odd', 'Even', 'Odd']\n"
     ]
    }
   ],
   "source": [
    "object= [\"Even\" if i%2==0 else \"Odd\" for i in range(10)]\n",
    "print(object)"
   ]
  },
  {
   "cell_type": "code",
   "execution_count": 18,
   "metadata": {},
   "outputs": [
    {
     "name": "stdout",
     "output_type": "stream",
     "text": [
      "[['a', 'b', 'c'], ['a', 'b', 'c'], ['a', 'b', 'c'], ['a', 'b', 'c'], ['a', 'b', 'c'], ['a', 'b', 'c'], ['a', 'b', 'c'], ['a', 'b', 'c'], ['a', 'b', 'c']]\n"
     ]
    }
   ],
   "source": [
    "chatbot=[]\n",
    "abc=[\"a\",\"b\",\"c\"]\n",
    "c=[\"d\",\"e\",\"f\"]\n",
    "for i in abc:\n",
    "    for n in c:\n",
    "        chatbot.append(abc)\n",
    "            \n",
    "print(chatbot)"
   ]
  },
  {
   "cell_type": "code",
   "execution_count": 19,
   "metadata": {},
   "outputs": [
    {
     "name": "stdout",
     "output_type": "stream",
     "text": [
      "[['a', 'b', 'c'], ['a', 'b', 'c'], ['a', 'b', 'c'], ['a', 'b', 'c'], ['a', 'b', 'c'], ['a', 'b', 'c'], ['a', 'b', 'c'], ['a', 'b', 'c'], ['a', 'b', 'c']]\n"
     ]
    }
   ],
   "source": [
    "chatbot=[]\n",
    "abc=[\"a\",\"b\",\"c\"]\n",
    "c=[\"d\",\"e\",\"f\"]\n",
    "\n",
    "chatbot= [ abc for i in abc for n in c]\n",
    "print(chatbot)"
   ]
  },
  {
   "cell_type": "code",
   "execution_count": 22,
   "metadata": {},
   "outputs": [
    {
     "name": "stdout",
     "output_type": "stream",
     "text": [
      "['the', 'cat', 'is', 'under', 'the', 'table', 'and', 'above', 'the', 'chair']\n",
      "[3, 2, 5, 5, 3, 5, 5]\n"
     ]
    }
   ],
   "source": [
    "sentence= \"the cat is under the table and above the chair\"\n",
    "words= sentence.split()\n",
    "word_length= []\n",
    "for word in words: \n",
    "    if word !=\"the\":\n",
    "        word_length.append(len(word))\n",
    "        \n",
    "print(words)\n",
    "print(word_length)"
   ]
  },
  {
   "cell_type": "code",
   "execution_count": 23,
   "metadata": {},
   "outputs": [
    {
     "name": "stdout",
     "output_type": "stream",
     "text": [
      "['the', 'cat', 'is', 'under', 'the', 'table', 'and', 'above', 'the', 'chair']\n",
      "[3, 2, 5, 5, 3, 5, 5]\n"
     ]
    }
   ],
   "source": [
    "sentence= \"the cat is under the table and above the chair\"\n",
    "words= sentence.split()\n",
    "word_length= [len(word) for word in words if word != \"the\"]\n",
    "print(words)\n",
    "print(word_length)"
   ]
  },
  {
   "cell_type": "code",
   "execution_count": null,
   "metadata": {},
   "outputs": [],
   "source": [
    "numbers_list=[1,0,-6,-7,4,-9]\n",
    "newlist=[]\n",
    "#using list comprehension, display all the positive numbers from list numbers_list"
   ]
  }
 ],
 "metadata": {
  "kernelspec": {
   "display_name": "Python 3",
   "language": "python",
   "name": "python3"
  },
  "language_info": {
   "codemirror_mode": {
    "name": "ipython",
    "version": 3
   },
   "file_extension": ".py",
   "mimetype": "text/x-python",
   "name": "python",
   "nbconvert_exporter": "python",
   "pygments_lexer": "ipython3",
   "version": "3.8.3"
  }
 },
 "nbformat": 4,
 "nbformat_minor": 4
}
